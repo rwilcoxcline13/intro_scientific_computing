{
 "cells": [
  {
   "cell_type": "code",
   "execution_count": 1,
   "metadata": {},
   "outputs": [],
   "source": [
    "from IPython.display import HTML\n",
    "import numpy as np\n",
    "import matplotlib.pyplot as plt\n",
    "import scipy.stats as stats\n",
    "from scipy.linalg import toeplitz\n",
    "from ipywidgets import interact, interactive, fixed, interact_manual\n",
    "%matplotlib inline"
   ]
  },
  {
   "cell_type": "markdown",
   "metadata": {},
   "source": [
    "<h1> Introduction to Numerical Modeling </h1>\n",
    "<h2> The Euler Forward Approach </h2>\n",
    "\n",
    "<p> In many dynamical systems it is often easiest to quantify the system as a differential equation, however, analytical solutions to such systems are often limited and we have to rely on numerical methods to solve the system. In order to understand numerical methods, we first must master the idea of discretization. <p>\n",
    "\n",
    "<h3> Discretization </h3>\n",
    "\n",
    "<p> If we think back to high school algebra, you might remember the concept of a function. Recall that a function $y = f(x)$ is a relationship between an independent variable $x$ and a dependent variable $y$. Often times when you plotted functions in high school, you used a graphing calculator and plugged in the function, for example $y=x^{2}$, and miraculously a plot of a parabola appeared on your screen! In our case we want to go back even further and think about when we plotted functions by hand. Often times you would create a table of values, plot the points, and then connect them to graph the function. The more points you had the smoother the plot would become. When you were plotting functions by hand you were discritizing the system. In numerical modeling we are going to do the same approach but for differential equations. But before we get there let's review discritization. </p>\n",
    "\n",
    "<p>\n",
    "There a two quantities that define a discretized system: \n",
    "<ol>\n",
    "<li>the number of points used </li>\n",
    "<li> the space between the points </li>\n",
    "</ol>\n",
    "Let us define the number of points as $N$ and the the grid spacing as $dx$. The grid, also sometimes called the mesh, is defined as the set of values of the dependent variable, which can be represented as the vector $\\vec{x} = (x_{1}, x_{2}...x_{i}...x_{N})$. We then operate a function $f$ on our grid to get the dependent variable $\\vec{y} = (y_{1}, y_{2}...y_{i}...y_{N})$, which then allows us to plot the function. \n",
    "\n",
    "</p>\n",
    "\n",
    "<p> Using the widget below, investigate what happens to the function $y = x^{2}$ when you alter the number of points used. </p>"
   ]
  },
  {
   "cell_type": "code",
   "execution_count": 2,
   "metadata": {},
   "outputs": [
    {
     "data": {
      "application/vnd.jupyter.widget-view+json": {
       "model_id": "7a6c2628dc49409b81f9e53c46ab634e"
      }
     },
     "metadata": {},
     "output_type": "display_data"
    }
   ],
   "source": [
    "def f(N):\n",
    "    \n",
    "    x_min = -5\n",
    "    x_max = 5\n",
    "    dx = (x_max-x_min)/(N)\n",
    "    x = np.linspace(x_min, x_max, N)\n",
    "    y = x**2\n",
    "    fig = plt.figure()\n",
    "    ax = fig.add_subplot(111)\n",
    "    ax.scatter(x,np.zeros(len(x)), color = 'red', label = 'Grid')\n",
    "    ax.plot(x, y, marker = 'o', linestyle = '-', color = 'blue', alpha = 0.8, label = 'Discretized Functon')\n",
    "    ax.plot(np.linspace(-5, 5, 1000), np.linspace(-5, 5, 1000)**2, color = 'k', alpha =0.5, label = 'Exact Function')\n",
    "    ax.set_xlim([-6, 6])\n",
    "    ax.set_xlabel('x')\n",
    "    ax.set_ylabel('y')\n",
    "    ax.legend(loc = 0)\n",
    "    ax.legend(bbox_to_anchor=(1.75, 1))\n",
    "    plt.show()\n",
    "    \n",
    "    return \n",
    "interact(f, N = (2, 20))\n",
    "plt.show()"
   ]
  },
  {
   "cell_type": "markdown",
   "metadata": {},
   "source": [
    "<h2> Numerical Approximation of the Derivative </h2>\n",
    "\n",
    "<p> Let us recall that we can mathematically define the slope between two points as $\\frac{f(x+\\Delta x)-f(x)}{\\Delta x}$ where $\\Delta x$ is the spacing between two points. \n",
    "\n",
    "\n"
   ]
  },
  {
   "cell_type": "code",
   "execution_count": 3,
   "metadata": {
    "collapsed": true
   },
   "outputs": [],
   "source": [
    "def forward(size):\n",
    "    r = np.zeros(size)\n",
    "    c = np.zeros(size)\n",
    "    r[0] = -1\n",
    "    r[size-1] = 1\n",
    "    c[1] = 1\n",
    "        \n",
    "    return toeplitz(r,c)\n"
   ]
  },
  {
   "cell_type": "code",
   "execution_count": null,
   "metadata": {
    "collapsed": true
   },
   "outputs": [],
   "source": []
  },
  {
   "cell_type": "code",
   "execution_count": 24,
   "metadata": {},
   "outputs": [
    {
     "data": {
      "application/vnd.jupyter.widget-view+json": {
       "model_id": "cbe3ce7e4472444a8083b3f8e68e5152"
      }
     },
     "metadata": {},
     "output_type": "display_data"
    }
   ],
   "source": [
    "def f(N):\n",
    "\n",
    "    x_min = 0\n",
    "    x_max = 2*np.pi\n",
    "    dx = (x_max-x_min)/(N)\n",
    "    x = np.linspace(x_min, x_max, N)\n",
    "    y = np.sin(x)\n",
    "    L = 1/dx*forward(N)\n",
    "    L = L[:-1, :]\n",
    "\n",
    "    fig = plt.figure()\n",
    "    ax = fig.add_subplot(111)\n",
    "    ax.plot(x, np.sin(x), alpha = 0.5, color = 'k', label = 'f(x)')\n",
    "    ax.plot(x, np.cos(x), color = 'blue', label = 'Analytical Derivative')\n",
    "    ax.plot(x[:-1], np.dot(L, y), color = 'red', label = 'Numerical Derivative')\n",
    "    ax.legend(bbox_to_anchor=(1.75, 1))\n",
    "    ax.set_title('Forward Difference')\n",
    "    plt.show()\n",
    "    \n",
    "    return\n",
    "\n",
    "interact(f, N = (5, 200, 5))\n",
    "\n",
    "plt.show()\n",
    "\n",
    "\n",
    "\n",
    "\n"
   ]
  },
  {
   "cell_type": "markdown",
   "metadata": {},
   "source": [
    "<h2> The Coffee Cup Problem </h2>\n",
    "\n",
    "Let us consider the differential equation $\\frac{dT}{dt} = -k(T-T_{s})$ re writing this as a single operator gives $[\\frac{d}{dT}+k(1-T_{s})]T = 0$. We can rewrite this as the matrix problem $LT = 0$ where $L = \\frac{d}{dT}+k(1-T_{s})$\n"
   ]
  },
  {
   "cell_type": "code",
   "execution_count": null,
   "metadata": {},
   "outputs": [],
   "source": [
    "t_min = 0\n",
    "t_max = 50\n",
    "N = 5000\n",
    "k = 0.1\n",
    "dt = (t_max-t_min)/(N)\n",
    "T0 = 100\n",
    "T_s = 60\n",
    "t = np.linspace(t_min, t_max, N)\n",
    "f = np.zeros(len(t))\n",
    "f[-1] = T0\n",
    "\n",
    "L = 1/dt*forward(N)\n",
    "L[-1, -1] = 0\n",
    "L[-1, 0] = 1\n",
    "L = L + k*(1-T_s)\n",
    "T = np.dot(np.linalg.inv(L), f)\n",
    "plt.plot(t, T)\n"
   ]
  },
  {
   "cell_type": "code",
   "execution_count": null,
   "metadata": {
    "collapsed": true
   },
   "outputs": [],
   "source": []
  }
 ],
 "metadata": {
  "kernelspec": {
   "display_name": "Python 3",
   "language": "python",
   "name": "python3"
  },
  "language_info": {
   "codemirror_mode": {
    "name": "ipython",
    "version": 3
   },
   "file_extension": ".py",
   "mimetype": "text/x-python",
   "name": "python",
   "nbconvert_exporter": "python",
   "pygments_lexer": "ipython3",
   "version": "3.6.1"
  }
 },
 "nbformat": 4,
 "nbformat_minor": 2
}
